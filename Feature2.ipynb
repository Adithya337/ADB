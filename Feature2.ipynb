{
 "cells": [
  {
   "cell_type": "code",
   "execution_count": 0,
   "metadata": {
    "application/vnd.databricks.v1+cell": {
     "cellMetadata": {
      "byteLimit": 2048000,
      "rowLimit": 10000
     },
     "inputWidgets": {},
     "nuid": "305da0c9-6700-49fd-9620-8057518805f9",
     "showTitle": false,
     "tableResultSettingsMap": {},
     "title": ""
    }
   },
   "outputs": [],
   "source": [
    "from pyspark.sql.types import *\n",
    "from pyspark.sql.functions import *\n",
    "from pyspark.sql.window import Window"
   ]
  },
  {
   "cell_type": "code",
   "execution_count": 0,
   "metadata": {
    "application/vnd.databricks.v1+cell": {
     "cellMetadata": {
      "byteLimit": 2048000,
      "rowLimit": 10000
     },
     "inputWidgets": {},
     "nuid": "ea80b66a-8081-4e96-8017-9a0894f5e4c5",
     "showTitle": false,
     "tableResultSettingsMap": {},
     "title": ""
    }
   },
   "outputs": [],
   "source": [
    "schema = ('id','num')\n",
    "data = [(1 ,1 ), \n",
    "(2 ,1 ), \n",
    "(3 ,1 ), \n",
    "(4 ,2 ), \n",
    "(5 ,1 ), \n",
    "(6 ,2 ), \n",
    "(7 ,2 )]\n",
    "df = spark.createDataFrame(data,schema)\n",
    "w = Window.orderBy(lit(1))\n",
    "df= df.withColumn('last_value',lag(col('num'),1).over(w))\\\n",
    "    .withColumn('last_last_value',lag(col('num'),2).over(w))\n",
    "df.where((col('num') == col('last_value')) & (col('num') == col('last_last_value'))).select('id','num').show()"
   ]
  }
 ],
 "metadata": {
  "application/vnd.databricks.v1+notebook": {
   "computePreferences": null,
   "dashboards": [],
   "environmentMetadata": {
    "base_environment": "",
    "environment_version": "2"
   },
   "language": "python",
   "notebookMetadata": {
    "pythonIndentUnit": 4
   },
   "notebookName": "Feature2",
   "widgets": {}
  },
  "language_info": {
   "name": "python"
  }
 },
 "nbformat": 4,
 "nbformat_minor": 0
}
